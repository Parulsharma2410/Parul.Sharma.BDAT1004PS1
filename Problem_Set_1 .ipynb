{
 "cells": [
  {
   "cell_type": "markdown",
   "id": "2aae96b4",
   "metadata": {},
   "source": [
    "## Problem Set 1"
   ]
  },
  {
   "cell_type": "markdown",
   "id": "f9b6c8f4",
   "metadata": {},
   "source": [
    "## Question 1 C# What data type is each of the following?"
   ]
  },
  {
   "cell_type": "markdown",
   "id": "941bd032",
   "metadata": {},
   "source": [
    "5 - Integer (int)\n",
    "5.0 - Floating-point number (double)\n",
    "5 > 1 - Boolean (bool)\n",
    "'5' - Character (char)\n",
    "5 * 2 - Integer (int)\n",
    "'5' * 2 - String (string)\n",
    "'5' + '2' - String (string)\n",
    "5 / 2 - Floating-point number (double)\n",
    "5 % 2 - Integer (int)\n",
    "{5, 2, 1} - Array of integers (int[])\n",
    "5 == 3 - Boolean (bool)\n",
    "Pi (the number) - Floating-point number (double)"
   ]
  },
  {
   "cell_type": "markdown",
   "id": "efdfd8cb",
   "metadata": {},
   "source": [
    "## Question 2 C# Write (and evaluate) C# expressions that answer these questions:"
   ]
  },
  {
   "cell_type": "code",
   "execution_count": null,
   "id": "ab621813",
   "metadata": {},
   "outputs": [],
   "source": [
    "//To find total number of letters\n",
    "string word = \"Supercalifragilisticexpialidocious\";\n",
    "int letterCount = word.Length;\n",
    "Console.WriteLine(\"Number of letters: \" + letterCount);"
   ]
  },
  {
   "cell_type": "markdown",
   "id": "1b9f7297",
   "metadata": {},
   "source": [
    "Number of letters: 34"
   ]
  },
  {
   "cell_type": "code",
   "execution_count": null,
   "id": "1a9200d2",
   "metadata": {},
   "outputs": [],
   "source": [
    "//checking contain 'ice' as a substring\n",
    "string word = \"Supercalifragilisticexpialidocious\";\n",
    "bool containsSubstring = word.Contains(\"ice\");\n",
    "Console.WriteLine(\"Contains 'ice': \" + containsSubstring);"
   ]
  },
  {
   "cell_type": "markdown",
   "id": "3afaf314",
   "metadata": {},
   "source": [
    "Contains 'ice': True"
   ]
  },
  {
   "cell_type": "code",
   "execution_count": null,
   "id": "4a24bc8d",
   "metadata": {},
   "outputs": [],
   "source": [
    "//Longest Word\n",
    "string word1 = \"Supercalifragilisticexpialidocious\";\n",
    "string word2 = \"Honorificabilitudinitatibus\";\n",
    "string word3 = \"Bababadalgharaghtakamminarronnkonn\";\n",
    "\n",
    "string longestWord = word1;\n",
    "if (word2.Length > longestWord.Length)\n",
    "{\n",
    "    longestWord = word2;\n",
    "}\n",
    "if (word3.Length > longestWord.Length)\n",
    "{\n",
    "    longestWord = word3;\n",
    "}\n",
    "\n",
    "Console.WriteLine(\"Longest word: \" + longestWord);\n"
   ]
  },
  {
   "cell_type": "markdown",
   "id": "3eb88dc0",
   "metadata": {},
   "source": [
    "Longest word: Supercalifragilisticexpialidocious"
   ]
  },
  {
   "cell_type": "code",
   "execution_count": null,
   "id": "4da0c98d",
   "metadata": {},
   "outputs": [],
   "source": [
    "string[] composers = { \"Berlioz\", \"Borodin\", \"Brian\", \"Bartok\", \"Bellini\", \"Buxtehude\", \"Bernstein\" };\n",
    "Array.Sort(composers);\n",
    "\n",
    "string firstComposer = composers[0];\n",
    "string lastComposer = composers[composers.Length - 1];\n",
    "\n",
    "Console.WriteLine(\"First composer: \" + firstComposer);\n",
    "Console.WriteLine(\"Last composer: \" + lastComposer);"
   ]
  },
  {
   "cell_type": "code",
   "execution_count": null,
   "id": "a077b566",
   "metadata": {},
   "outputs": [],
   "source": [
    "First composer: Bartok\n",
    "Last composer: Buxtehude"
   ]
  },
  {
   "cell_type": "markdown",
   "id": "f8180258",
   "metadata": {},
   "source": [
    "## Question 3 C#\n",
    "## Implement function triangleArea(a,b,c) that takes as input the lengths of the 3sides of a triangle and returns the area of the triangle.\n"
   ]
  },
  {
   "cell_type": "code",
   "execution_count": null,
   "id": "6324d81c",
   "metadata": {},
   "outputs": [],
   "source": [
    "//BY Heron's formula,finding the area of triangle\n",
    "using System;\n",
    "\n",
    "public class Program\n",
    "{\n",
    "    public static double TriangleArea(double a, double b, double c)\n",
    "    {\n",
    "        double s = (a + b + c) / 2;\n",
    "        double area = Math.Sqrt(s * (s - a) * (s - b) * (s - c));\n",
    "        return area;\n",
    "    }\n",
    "\n",
    "    public static void Main()\n",
    "    {\n",
    "        double area = TriangleArea(2, 2, 2);\n",
    "        Console.WriteLine(area);\n",
    "    }\n",
    "}\n"
   ]
  },
  {
   "cell_type": "markdown",
   "id": "a62e51fa",
   "metadata": {},
   "source": [
    "1.7320508075688772\n"
   ]
  },
  {
   "cell_type": "markdown",
   "id": "5ed4f835",
   "metadata": {},
   "source": [
    "## Question 4 C#\n",
    "## Write a program in C# Sharp to separate odd and even integers in separate arrays. \n"
   ]
  },
  {
   "cell_type": "code",
   "execution_count": null,
   "id": "acff3cf1",
   "metadata": {},
   "outputs": [],
   "source": [
    "//To separate odd and even integers in separate arrays\n",
    "using System;\n",
    "\n",
    "class Program\n",
    "{\n",
    "    static void Main()\n",
    "    {\n",
    "        Console.Write(\"Input the number of elements to be stored in the array: \");\n",
    "        int n = int.Parse(Console.ReadLine());\n",
    "\n",
    "        int[] arr = new int[n];\n",
    "\n",
    "        Console.WriteLine($\"Input {n} elements in the array:\");\n",
    "\n",
    "        for (int i = 0; i < n; i++)\n",
    "        {\n",
    "            Console.Write($\"element - {i} : \");\n",
    "            arr[i] = int.Parse(Console.ReadLine());\n",
    "        }\n",
    "\n",
    "        int[] evenArray = new int[n];\n",
    "        int[] oddArray = new int[n];\n",
    "        int evenCount = 0;\n",
    "        int oddCount = 0;\n",
    "\n",
    "        for (int i = 0; i < n; i++)\n",
    "        {\n",
    "            if (arr[i] % 2 == 0)\n",
    "            {\n",
    "                evenArray[evenCount] = arr[i];\n",
    "                evenCount++;\n",
    "            }\n",
    "            else\n",
    "            {\n",
    "                oddArray[oddCount] = arr[i];\n",
    "                oddCount++;\n",
    "            }\n",
    "        }\n",
    "\n",
    "        Console.WriteLine(\"The Even elements are:\");\n",
    "        for (int i = 0; i < evenCount; i++)\n",
    "        {\n",
    "            Console.Write($\"{evenArray[i]} \");\n",
    "        }\n",
    "\n",
    "        Console.WriteLine(\"\\nThe Odd elements are:\");\n",
    "        for (int i = 0; i < oddCount; i++)\n",
    "        {\n",
    "            Console.Write($\"{oddArray[i]} \");\n",
    "        }\n",
    "    }\n",
    "}\n"
   ]
  },
  {
   "cell_type": "markdown",
   "id": "eb69ac31",
   "metadata": {},
   "source": [
    "Input the number of elements to be stored in the array: 5\n",
    "Input 5 elements in the array:\n",
    "element - 0 : 25\n",
    "element - 1 : 47\n",
    "element - 2 : 42\n",
    "element - 3 : 56\n",
    "element - 4 : 32\n",
    "The Even elements are:\n",
    "42 56 32\n",
    "The Odd elements are:\n",
    "25 47"
   ]
  },
  {
   "cell_type": "markdown",
   "id": "490aaac4",
   "metadata": {},
   "source": [
    "## Question 5 C#\n",
    "## A. Write a function inside(x,y,x1,y1,x2,y2) that returns True or False \n",
    "## depending on whether the point (x,y) lies in the rectangle with lower left \n",
    "## corner (x1,y1) and upper right corner (x2,y2).\n",
    "\n",
    "## B. Use function inside() from part a. to write an expression that tests whether \n",
    "## the point (1,1) lies in both of the following rectangles: one with lower left \n",
    "## corner (0.3, 0.5) and upper right corner (1.1, 0.7) and the other with lower \n",
    "## left corner (0.5, 0.2) and upper right corner (1.1, 2)."
   ]
  },
  {
   "cell_type": "code",
   "execution_count": null,
   "id": "3e989cb7",
   "metadata": {},
   "outputs": [],
   "source": [
    "using System;\n",
    "\n",
    "public class Program\n",
    "{\n",
    "    public static bool Inside(double x, double y, double x1, double y1, double x2, double y2)\n",
    "    {\n",
    "        if (x >= x1 && x <= x2 && y >= y1 && y <= y2)\n",
    "        {\n",
    "            return true;\n",
    "        }\n",
    "        else\n",
    "        {\n",
    "            return false;\n",
    "        }\n",
    "    }\n",
    "\n",
    "    public static void Main(string[] args)\n",
    "    {\n",
    "        bool isInsideRectangle1 = Inside(1, 1, 0, 0, 2, 3);\n",
    "        bool isInsideRectangle2 = Inside(-1, -1, 0, 0, 2, 3);\n",
    "\n",
    "        Console.WriteLine(isInsideRectangle1); // True\n",
    "        Console.WriteLine(isInsideRectangle2); // False\n",
    "\n",
    "        bool isInsideBothRectangles = Inside(1, 1, 0.3, 0.5, 1.1, 0.7) && Inside(1, 1, 0.5, 0.2, 1.1, 2);\n",
    "\n",
    "        Console.WriteLine(isInsideBothRectangles); // False\n",
    "    }\n",
    "}\n"
   ]
  },
  {
   "cell_type": "markdown",
   "id": "15eb3eff",
   "metadata": {},
   "source": [
    "True\n",
    "False\n",
    "False"
   ]
  },
  {
   "cell_type": "markdown",
   "id": "201131da",
   "metadata": {},
   "source": [
    "## Question 6 Python\n",
    "## Write a function pig() that takes a word (i.e., a string) as input and returns its pig\u0002Latin form. "
   ]
  },
  {
   "cell_type": "code",
   "execution_count": 3,
   "id": "381eb481",
   "metadata": {},
   "outputs": [
    {
     "name": "stdout",
     "output_type": "stream",
     "text": [
      "appyhay\n",
      "enterway\n"
     ]
    }
   ],
   "source": [
    "def pig(word):\n",
    "    vowels = ['a', 'e', 'i', 'o', 'u']\n",
    "    word = word.lower()\n",
    "    \n",
    "    if word[0] in vowels:           # condition word start with vowel\n",
    "        return word + 'way'\n",
    "    else:\n",
    "        return word[1:] + word[0] + 'ay'\n",
    "\n",
    "print(pig('HaPPY'))  # happy\n",
    "print(pig('Enter'))  # enterway\n"
   ]
  },
  {
   "cell_type": "markdown",
   "id": "0a5db3cf",
   "metadata": {},
   "source": [
    "## Question 7 Python\n",
    "## File bloodtype1.txt records blood-types of patients (A, B, AB, O or OO) at a clinic. Write a function bldcount() that reads the file with name name and reports (i.e., prints) how many patients there are in each bloodtype.\n"
   ]
  },
  {
   "cell_type": "code",
   "execution_count": 1,
   "id": "ce78baa8",
   "metadata": {},
   "outputs": [
    {
     "name": "stdout",
     "output_type": "stream",
     "text": [
      "['AB', 'AB', 'B', 'O', 'A', 'A', 'AB', 'O', 'AB', 'A', 'O', 'O', 'A', 'A', 'A', 'O', 'O', 'O', 'AB', 'O', 'A', 'A', 'A', 'A', 'A', 'AB', 'AB', 'A', 'AB', 'O', 'AB', 'O', 'A', 'O', 'O', 'O', 'AB', 'O', 'AB', 'AB', 'AB', 'A', 'A', 'O']\n",
      "The length of the list : 44\n",
      "There are 13 patients of blood type AB\n",
      "There are 15 patients of blood type A\n",
      "There are 1 patients of blood type B\n",
      "There are 15 patients of blood type O\n",
      "There are 0 patients of blood type OO\n"
     ]
    }
   ],
   "source": [
    "def bldcount(file):\n",
    "    print(\"There are\",file.count(\"AB\"), \"patients of blood type AB\")\n",
    "    print(\"There are\",file.count(\"A\") ,\"patients of blood type A\")\n",
    "    print(\"There are\",file.count(\"B\"),\"patients of blood type B\")\n",
    "    print(\"There are\",file.count(\"O\"),\"patients of blood type O\")\n",
    "    print(\"There are\",file.count(\"OO\"),\"patients of blood type OO\")\n",
    "\n",
    "list=open(\"bloodtype.txt\")\n",
    "y=list.read()\n",
    "file=y.split()\n",
    "print(file)\n",
    "print(\"The length of the list :\",len(file))\n",
    "\n",
    "\n",
    "bldcount(file)\n"
   ]
  },
  {
   "cell_type": "markdown",
   "id": "e274e2e9",
   "metadata": {},
   "source": [
    "## Question 8 Python\n",
    "Write a function curconv() that takes as input:\n",
    "1. a currency represented using a string (e.g., 'JPY' for the Japanese Yen or \n",
    "'EUR' for the Euro)\n",
    "2. an amount\n",
    "and then converts and returns the amount in US dollars."
   ]
  },
  {
   "cell_type": "code",
   "execution_count": 1,
   "id": "9c73ac9e",
   "metadata": {},
   "outputs": [
    {
     "name": "stdout",
     "output_type": "stream",
     "text": [
      "Enter the amount: 200\n",
      "Enter the currency: EUR\n",
      "200.00 EUR is equal to 245.93 USD\n"
     ]
    }
   ],
   "source": [
    "def currency_converter(amount, currency):\n",
    "  conversion_rates = {'AUD': 1.0345157,'CHF':1.0237414,'CNY':0.1550176,'DKK':0.1651442,\n",
    "               'EUR':1.2296544,'GBP':1.5550989,'HKD':0.1270207, 'INR':0.0177643,\n",
    "               'JPY': 0.01241401,'MXN': 0.0751848,'MYR': 0.3145411,'NOK':0.1677063,\n",
    "               'NZD':0.8003591,'PHP':0.0233234,'SEK':0.148269,'SGD':0.788871,'THB':0.0313789}   #Dictionary of currency rates.\n",
    "  \n",
    "  conversion_rate = conversion_rates.get(currency, 0)\n",
    "  if conversion_rate == 0:\n",
    "    return None\n",
    "  \n",
    "  return amount * conversion_rate\n",
    "\n",
    "amount = float(input(\"Enter the amount: \"))\n",
    "currency = input(\"Enter the currency: \")\n",
    "\n",
    "usd = currency_converter(amount, currency)\n",
    "if usd is None:\n",
    "  print(\"Invalid currency\")\n",
    "else:\n",
    "  print(\"{0:.2f}\".format(amount), currency, \"is equal to\", \"{0:.2f}\".format(usd), \"USD\")"
   ]
  },
  {
   "cell_type": "markdown",
   "id": "a55c8900",
   "metadata": {},
   "source": [
    "## Question 9 Python  Each of the following will cause an exception (an error). Identify what type of exception each will cause."
   ]
  },
  {
   "cell_type": "markdown",
   "id": "3d418523",
   "metadata": {},
   "source": [
    "### Trying to add incompatible variables, as in adding 6 + 'a':\n",
    "An integer (6) plus a string ('a') cannot be added, hence this will result in a TypeError. The kinds cannot be added together.\n",
    "\n",
    "### Referring to the 12th item of a list that has only 10 items:\n",
    "It will result in  IndexError.There are only 10 entries in the list in this instance, indices 0 to 9 are valid.\n",
    "\n",
    "### Using a value that is out of range for a function's input, such as calling math.sqrt(-1.0):\n",
    "There will be a ValueError.The math.sqrt() function requires a non-negative number to calculate the square root. A negative number, such as -1.0, is beyond the acceptable range of input for this function.\n",
    "\n",
    "### Using an undeclared variable, such as print(x) when x has not been defined:\n",
    "It will give Name error.Variable (x) is not defined or given a value before being used in the print() statement.\n",
    "\n",
    "### Trying to open a file that does not exist, such as mistyping the file name or looking in the wrong directory:\n",
    "It will result in FileNotFoundError because does not exist in the specified location. "
   ]
  },
  {
   "cell_type": "markdown",
   "id": "d49cc051",
   "metadata": {},
   "source": [
    "## Question 10 Python\n",
    "## Write a function called frequencies()that takes a string as its only parameter, and returns a list of integers, showing the number of times each character appears in the text. \n"
   ]
  },
  {
   "cell_type": "code",
   "execution_count": 12,
   "id": "3da5c11f",
   "metadata": {},
   "outputs": [
    {
     "name": "stdout",
     "output_type": "stream",
     "text": [
      "[1, 1, 1, 3, 5, 1, 1, 2, 1, 0, 1, 0, 1, 2, 4, 0, 1, 2, 0, 3, 1, 0, 1, 1, 0, 0]\n",
      "[1, 0, 0, 0, 1, 0, 0, 0, 0, 0, 0, 1, 0, 0, 0, 2, 0, 0, 0, 0, 0, 0, 0, 0, 0, 0]\n"
     ]
    }
   ],
   "source": [
    "def frequencies(text):\n",
    "    letters = 'abcdefghijklmnopqrstuvwxyz'\n",
    "    frequency_list = []\n",
    "    for char in letters:\n",
    "        frequency = text.lower().count(char)\n",
    "        frequency_list.append(frequency)\n",
    "    return frequency_list\n",
    "print(frequencies('The quick red fox got bored and went home.'))\n",
    "\n",
    "print(frequencies('apple'))\n",
    "\n",
    "\n"
   ]
  }
 ],
 "metadata": {
  "kernelspec": {
   "display_name": "Python 3 (ipykernel)",
   "language": "python",
   "name": "python3"
  },
  "language_info": {
   "codemirror_mode": {
    "name": "ipython",
    "version": 3
   },
   "file_extension": ".py",
   "mimetype": "text/x-python",
   "name": "python",
   "nbconvert_exporter": "python",
   "pygments_lexer": "ipython3",
   "version": "3.10.9"
  }
 },
 "nbformat": 4,
 "nbformat_minor": 5
}
